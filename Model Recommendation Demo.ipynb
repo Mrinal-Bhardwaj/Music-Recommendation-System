{
 "cells": [
  {
   "cell_type": "markdown",
   "id": "3904825f",
   "metadata": {},
   "source": [
    "# Library importing"
   ]
  },
  {
   "cell_type": "code",
   "execution_count": 1,
   "id": "5b0a725c",
   "metadata": {},
   "outputs": [],
   "source": [
    "import recommedation_pipeline as rp\n",
    "import warnings\n",
    "warnings.filterwarnings(\"ignore\")"
   ]
  },
  {
   "cell_type": "markdown",
   "id": "02c3ccd4",
   "metadata": {},
   "source": [
    "# Recommendation Engine"
   ]
  },
  {
   "cell_type": "code",
   "execution_count": null,
   "id": "d703cca2",
   "metadata": {},
   "outputs": [
    {
     "name": "stdout",
     "output_type": "stream",
     "text": [
      "\n",
      "id  Song name\n",
      "0 : Felony\n",
      "1 : Date Rape\n",
      "2 : Himno del Legionario (Instrumental) - Remastered\n",
      "3 : Flip it Back\n",
      "4 : Try Everything - From \"Zootropolis\"\n",
      "5 : Pero Te Vas A Arrepentir\n",
      "6 : Mi Obsesión\n"
     ]
    }
   ],
   "source": [
    "object_pipe = rp.pipeline()\n",
    "object_pipe.recommend_song_list()"
   ]
  },
  {
   "cell_type": "code",
   "execution_count": null,
   "id": "ca456362",
   "metadata": {},
   "outputs": [],
   "source": []
  }
 ],
 "metadata": {
  "kernelspec": {
   "display_name": "Python 3 (ipykernel)",
   "language": "python",
   "name": "python3"
  },
  "language_info": {
   "codemirror_mode": {
    "name": "ipython",
    "version": 3
   },
   "file_extension": ".py",
   "mimetype": "text/x-python",
   "name": "python",
   "nbconvert_exporter": "python",
   "pygments_lexer": "ipython3",
   "version": "3.9.0"
  }
 },
 "nbformat": 4,
 "nbformat_minor": 5
}
